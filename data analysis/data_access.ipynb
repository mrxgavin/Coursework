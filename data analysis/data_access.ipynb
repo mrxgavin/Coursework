{
 "cells": [
  {
   "cell_type": "code",
   "execution_count": 4,
   "metadata": {},
   "outputs": [],
   "source": [
    "import requests\n",
    "from fake_useragent import UserAgent\n",
    "import json\n",
    "import pandas as pd\n",
    "import time\n",
    "import datetime\n",
    "headers = { \"User-Agent\": UserAgent(verify_ssl=False).random}\n",
    "comment_api = 'https://bangumi.bilibili.com/review/web_api/short/list?media_id=102392&folded=0&page_size=20&sort=0'"
   ]
  },
  {
   "cell_type": "markdown",
   "metadata": {},
   "source": [
    "# 发送get请求"
   ]
  },
  {
   "cell_type": "code",
   "execution_count": 5,
   "metadata": {},
   "outputs": [
    {
     "name": "stdout",
     "output_type": "stream",
     "text": [
      "已完成 0.52% !\n",
      "已完成 1.04% !\n",
      "已完成 1.56% !\n",
      "已完成 2.08% !\n",
      "已完成 2.61% !\n",
      "已完成 3.13% !\n",
      "已完成 3.65% !\n",
      "已完成 4.17% !\n",
      "已完成 4.69% !\n",
      "已完成 5.21% !\n",
      "已完成 5.73% !\n",
      "已完成 6.25% !\n",
      "已完成 6.77% !\n",
      "已完成 7.3% !\n",
      "已完成 7.82% !\n",
      "已完成 8.34% !\n",
      "已完成 8.86% !\n",
      "已完成 9.38% !\n",
      "已完成 9.9% !\n",
      "已完成 10.42% !\n",
      "已完成 10.94% !\n",
      "已完成 11.46% !\n",
      "已完成 11.98% !\n",
      "已完成 12.51% !\n",
      "已完成 13.03% !\n",
      "已完成 13.55% !\n",
      "已完成 14.07% !\n",
      "已完成 14.59% !\n",
      "已完成 15.11% !\n",
      "已完成 15.63% !\n",
      "已完成 16.15% !\n",
      "已完成 16.67% !\n",
      "已完成 17.2% !\n",
      "已完成 17.72% !\n",
      "已完成 18.24% !\n",
      "已完成 18.76% !\n",
      "已完成 19.28% !\n",
      "已完成 19.8% !\n",
      "已完成 20.32% !\n",
      "已完成 20.84% !\n",
      "已完成 21.36% !\n",
      "已完成 21.89% !\n",
      "已完成 22.41% !\n",
      "已完成 22.93% !\n",
      "已完成 23.45% !\n",
      "已完成 23.97% !\n",
      "已完成 24.49% !\n",
      "已完成 25.01% !\n",
      "已完成 25.53% !\n",
      "已完成 26.05% !\n",
      "已完成 26.57% !\n",
      "已完成 27.1% !\n",
      "已完成 27.62% !\n",
      "已完成 28.14% !\n",
      "已完成 28.66% !\n",
      "已完成 29.18% !\n",
      "已完成 29.7% !\n",
      "已完成 30.22% !\n",
      "已完成 30.74% !\n",
      "已完成 31.26% !\n",
      "已完成 31.79% !\n",
      "已完成 32.31% !\n",
      "已完成 32.83% !\n",
      "已完成 33.35% !\n",
      "已完成 33.87% !\n",
      "已完成 34.39% !\n"
     ]
    },
    {
     "ename": "KeyboardInterrupt",
     "evalue": "",
     "output_type": "error",
     "traceback": [
      "\u001b[1;31m---------------------------------------------------------------------------\u001b[0m",
      "\u001b[1;31mKeyboardInterrupt\u001b[0m                         Traceback (most recent call last)",
      "\u001b[1;32m<ipython-input-5-ac6fa56ceebb>\u001b[0m in \u001b[0;36m<module>\u001b[1;34m()\u001b[0m\n\u001b[0;32m     34\u001b[0m     \u001b[1;32mif\u001b[0m \u001b[0mj\u001b[0m \u001b[1;33m%\u001b[0m \u001b[1;36m50\u001b[0m \u001b[1;33m==\u001b[0m\u001b[1;36m0\u001b[0m\u001b[1;33m:\u001b[0m\u001b[1;33m\u001b[0m\u001b[0m\n\u001b[0;32m     35\u001b[0m         \u001b[0mprint\u001b[0m\u001b[1;33m(\u001b[0m\u001b[1;34m'已完成 {}% !'\u001b[0m\u001b[1;33m.\u001b[0m\u001b[0mformat\u001b[0m\u001b[1;33m(\u001b[0m\u001b[0mround\u001b[0m\u001b[1;33m(\u001b[0m\u001b[0mj\u001b[0m\u001b[1;33m/\u001b[0m\u001b[0mtotal\u001b[0m\u001b[1;33m*\u001b[0m\u001b[1;36m100\u001b[0m\u001b[1;33m,\u001b[0m\u001b[1;36m2\u001b[0m\u001b[1;33m)\u001b[0m\u001b[1;33m)\u001b[0m\u001b[1;33m)\u001b[0m\u001b[1;33m\u001b[0m\u001b[0m\n\u001b[1;32m---> 36\u001b[1;33m     \u001b[0mtime\u001b[0m\u001b[1;33m.\u001b[0m\u001b[0msleep\u001b[0m\u001b[1;33m(\u001b[0m\u001b[1;36m0.5\u001b[0m\u001b[1;33m)\u001b[0m\u001b[1;33m\u001b[0m\u001b[0m\n\u001b[0m\u001b[0;32m     37\u001b[0m \u001b[1;33m\u001b[0m\u001b[0m\n\u001b[0;32m     38\u001b[0m \u001b[1;33m\u001b[0m\u001b[0m\n",
      "\u001b[1;31mKeyboardInterrupt\u001b[0m: "
     ]
    }
   ],
   "source": [
    "response_comment = requests.get(comment_api,headers = headers)\n",
    "json_comment = response_comment.text\n",
    "json_comment = json.loads(json_comment)\n",
    "\n",
    "total = json_comment['result']['total']\n",
    "\n",
    "cols = ['author','score','disliked','likes','liked','ctime','score','content','last_ep_index','cursor']\n",
    "dataall = pd.DataFrame(index = range(total),columns = cols)\n",
    "\n",
    "\n",
    "j = 0\n",
    "while j <total:\n",
    "    n = len(json_comment['result']['list'])\n",
    "    for i in range(n):\n",
    "        dataall.loc[j,'author'] = json_comment['result']['list'][i]['author']['uname']\n",
    "        dataall.loc[j,'score'] = json_comment['result']['list'][i]['user_rating']['score']\n",
    "        dataall.loc[j,'disliked'] = json_comment['result']['list'][i]['disliked']\n",
    "        dataall.loc[j,'likes'] = json_comment['result']['list'][i]['likes']\n",
    "        dataall.loc[j,'liked'] = json_comment['result']['list'][i]['liked']\n",
    "        dataall.loc[j,'ctime'] = json_comment['result']['list'][i]['ctime']\n",
    "        dataall.loc[j,'content'] = json_comment['result']['list'][i]['content']\n",
    "        dataall.loc[j,'cursor'] = json_comment['result']['list'][n-1]['cursor'] \n",
    "        j+= 1\n",
    "    try:        \n",
    "        dataall.loc[j,'last_ep_index'] = json_comment['result']['list'][i]['user_season']['last_ep_index']\n",
    "    except:\n",
    "        pass\n",
    "\n",
    "    comment_api1 = comment_api + '&cursor=' + dataall.loc[j-1,'cursor'] \n",
    "    response_comment = requests.get(comment_api1,headers = headers)\n",
    "    json_comment = response_comment.text\n",
    "    json_comment = json.loads(json_comment)\n",
    "    \n",
    "    if j % 50 ==0:\n",
    "        print('已完成 {}% !'.format(round(j/total*100,2)))\n",
    "    time.sleep(0.5)\n",
    "    \n",
    "        \n",
    "\n",
    "dataall = dataall.fillna(0)\n",
    "\n",
    "def getDate(x):\n",
    "    x = time.gmtime(x)\n",
    "    return(pd.Timestamp(datetime.datetime(x[0],x[1],x[2],x[3],x[4],x[5])))\n",
    "\n",
    "dataall['date'] = dataall.ctime.apply(lambda x:getDate(x))\n",
    "\n",
    "dataall.to_csv('bilibilib_gongzuoxibao.xlsx',index = False)\n"
   ]
  },
  {
   "cell_type": "code",
   "execution_count": null,
   "metadata": {
    "collapsed": true
   },
   "outputs": [],
   "source": []
  }
 ],
 "metadata": {
  "kernelspec": {
   "display_name": "Python 3",
   "language": "python",
   "name": "python3"
  },
  "language_info": {
   "codemirror_mode": {
    "name": "ipython",
    "version": 3
   },
   "file_extension": ".py",
   "mimetype": "text/x-python",
   "name": "python",
   "nbconvert_exporter": "python",
   "pygments_lexer": "ipython3",
   "version": "3.6.2"
  }
 },
 "nbformat": 4,
 "nbformat_minor": 2
}
